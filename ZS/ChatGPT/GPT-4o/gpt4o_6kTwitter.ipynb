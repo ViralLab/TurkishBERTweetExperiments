{
 "cells": [
  {
   "cell_type": "code",
   "execution_count": 1,
   "metadata": {},
   "outputs": [],
   "source": [
    "import os\n",
    "import json\n",
    "\n",
    "from credentials import OPENAPI_KEY\n",
    "os.environ[\"OPENAI_API_KEY\"] = OPENAPI_KEY\n",
    "\n",
    "import openai\n",
    "from tqdm import tqdm\n",
    "import pandas as pd"
   ]
  },
  {
   "cell_type": "code",
   "execution_count": 2,
   "metadata": {},
   "outputs": [],
   "source": [
    "client = openai.OpenAI()"
   ]
  },
  {
   "cell_type": "code",
   "execution_count": 3,
   "metadata": {},
   "outputs": [],
   "source": [
    "ROOT_PATH = \"PATH\"\n",
    "ds_name = \"6kTwitter\"\n",
    "ds_path = f\"{ROOT_PATH}/dataGPT4o/{ds_name}.jsonl\"\n",
    "with open(ds_path, \"r\") as f:\n",
    "    my_dataset = [json.loads(line) for line in f]"
   ]
  },
  {
   "cell_type": "code",
   "execution_count": 6,
   "metadata": {},
   "outputs": [
    {
     "data": {
      "text/plain": [
       "{'messages': [{'role': 'system',\n",
       "   'content': 'VRL-GPT-4o Türkçe metinlerin duygusunu verebilen bir chatbottur. (Pozitif, Nötr, Negatif)'},\n",
       "  {'role': 'user',\n",
       "   'content': 'Bu Türkçe metin hangi duyguyu içeriyor?: \"düğümünde bir şartla altin istemem damat  medcezirin tum sezonunu 2 kere izlerse ?_?\"? (Pozitif/Nötr/Negatif)'},\n",
       "  {'role': 'assistant', 'content': 'Negatif'}]}"
      ]
     },
     "execution_count": 6,
     "metadata": {},
     "output_type": "execute_result"
    }
   ],
   "source": [
    "my_dataset[0]"
   ]
  },
  {
   "cell_type": "code",
   "execution_count": 11,
   "metadata": {},
   "outputs": [
    {
     "name": "stderr",
     "output_type": "stream",
     "text": [
      "100%|██████████| 6001/6001 [1:17:43<00:00,  1.29it/s] \n"
     ]
    }
   ],
   "source": [
    "preds = []\n",
    "refs  = []\n",
    "\n",
    "for example in tqdm(my_dataset):\n",
    "    response = client.chat.completions.create(\n",
    "        model=\"gpt-4o\",  # or \"gpt-4-turbo\"\n",
    "        messages=example[\"messages\"][:2]\n",
    "    )\n",
    "    \n",
    "    model_output = response.choices[0].message.content\n",
    "    ground_truth = example[\"messages\"][-1][\"content\"]\n",
    "    preds.append(model_output)\n",
    "    refs.append(ground_truth)"
   ]
  },
  {
   "cell_type": "code",
   "execution_count": 12,
   "metadata": {},
   "outputs": [],
   "source": [
    "output_dir = f\"{ROOT_PATH}/outputs\"\n",
    "output_df  = pd.DataFrame({\"preds\": preds, \"refs\": refs})\n",
    "output_df.to_csv(f\"{output_dir}/gpt4o-{ds_name}.csv\", index=False)"
   ]
  },
  {
   "cell_type": "code",
   "execution_count": 13,
   "metadata": {},
   "outputs": [
    {
     "data": {
      "text/plain": [
       "preds\n",
       "Negatif                                                                                                                                                                                                                                      1323\n",
       "Negatif.                                                                                                                                                                                                                                     1163\n",
       "Pozitif.                                                                                                                                                                                                                                     1014\n",
       "Pozitif                                                                                                                                                                                                                                       712\n",
       "Nötr                                                                                                                                                                                                                                          348\n",
       "                                                                                                                                                                                                                                             ... \n",
       "Bu metin genel olarak nötr bir duyguyu içermektedir. Bir tespit yapmaktadır ve herhangi bir olumlu ya da olumsuz duygu taşımamaktadır.                                                                                                          1\n",
       "Bu Türkçe metin, nötr bir duygu içeriyor.                                                                                                                                                                                                       1\n",
       "Metin genel olarak pozitif bir duygu içeriyor. Şehirden bahsedilirken akla olumsuz herhangi bir şey gelmediği ve güzel bir süreçten bahsedildiği belirtiliyor.                                                                                  1\n",
       "Bu metin, \"Sevdiğim insanlar değişiyor, bütün mesele bu,” olumsuz bir duyguyu, yani negatif bir duyguyu içeriyor. Metin, kişinin sevdiği insanların değişmesinden kaynaklanan bir kaygı veya hoşnutsuzluk ifadesi taşıyor gibi görünüyor.       1\n",
       "Negatif duygu içeriyor.                                                                                                                                                                                                                         1\n",
       "Name: count, Length: 556, dtype: int64"
      ]
     },
     "execution_count": 13,
     "metadata": {},
     "output_type": "execute_result"
    }
   ],
   "source": [
    "output_df[\"preds\"].value_counts()"
   ]
  },
  {
   "cell_type": "code",
   "execution_count": null,
   "metadata": {},
   "outputs": [],
   "source": []
  }
 ],
 "metadata": {
  "kernelspec": {
   "display_name": "venv",
   "language": "python",
   "name": "python3"
  },
  "language_info": {
   "codemirror_mode": {
    "name": "ipython",
    "version": 3
   },
   "file_extension": ".py",
   "mimetype": "text/x-python",
   "name": "python",
   "nbconvert_exporter": "python",
   "pygments_lexer": "ipython3",
   "version": "3.8.10"
  }
 },
 "nbformat": 4,
 "nbformat_minor": 2
}
