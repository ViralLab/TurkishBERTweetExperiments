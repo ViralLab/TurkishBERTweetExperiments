{
 "cells": [
  {
   "cell_type": "code",
   "execution_count": 1,
   "metadata": {},
   "outputs": [],
   "source": [
    "import os\n",
    "import json\n",
    "\n",
    "from credentials import OPENAPI_KEY\n",
    "os.environ[\"OPENAI_API_KEY\"] = OPENAPI_KEY\n",
    "\n",
    "import openai\n",
    "from tqdm import tqdm\n",
    "import pandas as pd"
   ]
  },
  {
   "cell_type": "code",
   "execution_count": 2,
   "metadata": {},
   "outputs": [],
   "source": [
    "client = openai.OpenAI()"
   ]
  },
  {
   "cell_type": "code",
   "execution_count": 3,
   "metadata": {},
   "outputs": [],
   "source": [
    "ROOT_PATH = \"PATH\"\n",
    "ds_name = \"hatespeechexistence\"\n",
    "ds_path = f\"{ROOT_PATH}/{ds_name}.jsonl\"\n",
    "with open(ds_path, \"r\") as f:\n",
    "    my_dataset = [json.loads(line) for line in f]"
   ]
  },
  {
   "cell_type": "code",
   "execution_count": 5,
   "metadata": {},
   "outputs": [
    {
     "data": {
      "text/plain": [
       "{'messages': [{'role': 'system',\n",
       "   'content': \"VRL-Detector, verilen Türkçe metnin Nefret Söylemi içerip içermediğini tespit edebilen bir chatbot'tur. (Evet, Hayır)\"},\n",
       "  {'role': 'user',\n",
       "   'content': 'Bu Türkçe metin nefret söylemi içeriyor mu?:\" suriyeli çetelerin evlilik vaadiyle kandırıp binlerce tl dolandırılan cahillere zerre kadar üzülmüyorum ...türkiye\\'de kadın kalmadı de mi? beter olun... 15 ocak çarşamba\" (Evet, Hayır)'},\n",
       "  {'role': 'assistant', 'content': 'Evet'}]}"
      ]
     },
     "execution_count": 5,
     "metadata": {},
     "output_type": "execute_result"
    }
   ],
   "source": [
    "my_dataset[0]"
   ]
  },
  {
   "cell_type": "code",
   "execution_count": 5,
   "metadata": {},
   "outputs": [
    {
     "name": "stdout",
     "output_type": "stream",
     "text": [
      "100%|██████████| 5854/5854 [58:36<00:00,  1.85it/s]\n"
     ]
    }
   ],
   "source": [
    "preds = []\n",
    "refs  = []\n",
    "\n",
    "for example in tqdm(my_dataset):\n",
    "    response = client.chat.completions.create(\n",
    "        model=\"gpt-4o\",  # or \"gpt-4-turbo\"\n",
    "        messages=example[\"messages\"][:2]\n",
    "    )\n",
    "    \n",
    "    model_output = response.choices[0].message.content\n",
    "    ground_truth = example[\"messages\"][-1][\"content\"]\n",
    "    preds.append(model_output)\n",
    "    refs.append(ground_truth)"
   ]
  },
  {
   "cell_type": "code",
   "execution_count": null,
   "metadata": {},
   "outputs": [],
   "source": [
    "output_dir = f\"{ROOT_PATH}/outputs\"\n",
    "output_df = pd.DataFrame({\"preds\": preds, \"refs\": refs})\n",
    "output_df.to_csv(f\"{output_dir}/gpt4o-{ds_name}.csv\", index=False)"
   ]
  },
  {
   "cell_type": "code",
   "execution_count": 4,
   "metadata": {},
   "outputs": [
    {
     "data": {
      "text/plain": [
       "preds\n",
       "Evet.                                                                                                                                                            3508\n",
       "Hayır.                                                                                                                                                           1381\n",
       "Evet                                                                                                                                                              800\n",
       "Hayır                                                                                                                                                             161\n",
       "Evet. \\n\\nMetin, Suriyelilere yönelik olumsuz ve düşmanca bir dil kullanmakta ve onları \"nankör\" ve \"işgalci\" olarak niteleyerek nefret söylemi içermektedir.       1\n",
       "Bu metin nefret söylemi içermiyor. (Hayır)                                                                                                                          1\n",
       "Evet, bu metin nefret söylemi içeriyor.                                                                                                                             1\n",
       "Bu metin nefret söylemi içermektedir. Evet.                                                                                                                         1\n",
       "Name: count, dtype: int64"
      ]
     },
     "execution_count": 4,
     "metadata": {},
     "output_type": "execute_result"
    }
   ],
   "source": [
    "output_df[\"preds\"].value_counts()"
   ]
  },
  {
   "cell_type": "code",
   "execution_count": null,
   "metadata": {},
   "outputs": [],
   "source": []
  }
 ],
 "metadata": {
  "kernelspec": {
   "display_name": "venv",
   "language": "python",
   "name": "python3"
  },
  "language_info": {
   "codemirror_mode": {
    "name": "ipython",
    "version": 3
   },
   "file_extension": ".py",
   "mimetype": "text/x-python",
   "name": "python",
   "nbconvert_exporter": "python",
   "pygments_lexer": "ipython3",
   "version": "3.8.10"
  }
 },
 "nbformat": 4,
 "nbformat_minor": 2
}
