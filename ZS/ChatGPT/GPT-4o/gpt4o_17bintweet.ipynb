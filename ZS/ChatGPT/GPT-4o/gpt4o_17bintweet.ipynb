{
 "cells": [
  {
   "cell_type": "code",
   "execution_count": 1,
   "metadata": {},
   "outputs": [],
   "source": [
    "import os\n",
    "import json\n",
    "\n",
    "from credentials import OPENAPI_KEY\n",
    "os.environ[\"OPENAI_API_KEY\"] = OPENAPI_KEY\n",
    "\n",
    "import openai\n",
    "from tqdm import tqdm\n",
    "import pandas as pd"
   ]
  },
  {
   "cell_type": "code",
   "execution_count": 2,
   "metadata": {},
   "outputs": [],
   "source": [
    "client = openai.OpenAI()"
   ]
  },
  {
   "cell_type": "code",
   "execution_count": 3,
   "metadata": {},
   "outputs": [],
   "source": [
    "ROOT_PATH = \"PATH\"\n",
    "ds_name = \"17bintweet\"\n",
    "ds_path = f\"{ROOT_PATH}/{ds_name}.jsonl\"\n",
    "with open(ds_path, \"r\") as f:\n",
    "    my_dataset = [json.loads(line) for line in f]"
   ]
  },
  {
   "cell_type": "code",
   "execution_count": 4,
   "metadata": {},
   "outputs": [
    {
     "data": {
      "text/plain": [
       "{'messages': [{'role': 'system',\n",
       "   'content': 'VRL-GPT-4o Türkçe metinlerin duygusunu verebilen bir chatbottur. (Pozitif, Nötr, Negatif)'},\n",
       "  {'role': 'user',\n",
       "   'content': 'Bu Türkçe metin hangi duyguyu içeriyor?: \"Ulan Wifi\\'ye bağlıyım ben. Ona bağlıyken Turkcell internet paketin bitti diye nasıl mesaj atabilir bana ya? Onu da mı ödeyelim\"? (Pozitif/Nötr/Negatif)'},\n",
       "  {'role': 'assistant', 'content': 'Negatif'}]}"
      ]
     },
     "execution_count": 4,
     "metadata": {},
     "output_type": "execute_result"
    }
   ],
   "source": [
    "my_dataset[0]"
   ]
  },
  {
   "cell_type": "code",
   "execution_count": 5,
   "metadata": {},
   "outputs": [
    {
     "name": "stderr",
     "output_type": "stream",
     "text": [
      "  0%|          | 0/17289 [00:00<?, ?it/s]"
     ]
    },
    {
     "name": "stderr",
     "output_type": "stream",
     "text": [
      "100%|██████████| 17289/17289 [3:06:17<00:00,  1.55it/s]   \n"
     ]
    }
   ],
   "source": [
    "preds = []\n",
    "refs  = []\n",
    "\n",
    "for example in tqdm(my_dataset):\n",
    "    response = client.chat.completions.create(\n",
    "        model=\"gpt-4o\",  # or \"gpt-4-turbo\"\n",
    "        messages=example[\"messages\"][:2]\n",
    "    )\n",
    "    \n",
    "    model_output = response.choices[0].message.content\n",
    "    ground_truth = example[\"messages\"][-1][\"content\"]\n",
    "    preds.append(model_output)\n",
    "    refs.append(ground_truth)"
   ]
  },
  {
   "cell_type": "code",
   "execution_count": 6,
   "metadata": {},
   "outputs": [],
   "source": [
    "output_dir = \"/cta/users/anajafi/chatGPT/GPT4o/outputs\"\n",
    "output_df = pd.DataFrame({\"preds\": preds, \"refs\": refs})\n",
    "output_df.to_csv(f\"{output_dir}/gpt4o-{ds_name}.csv\", index=False)"
   ]
  },
  {
   "cell_type": "code",
   "execution_count": 7,
   "metadata": {},
   "outputs": [
    {
     "data": {
      "text/plain": [
       "preds\n",
       "Negatif                                                                                                                                                                               4845\n",
       "Negatif.                                                                                                                                                                              2881\n",
       "Pozitif.                                                                                                                                                                              2315\n",
       "Nötr                                                                                                                                                                                  2149\n",
       "Pozitif                                                                                                                                                                               2067\n",
       "                                                                                                                                                                                      ... \n",
       "Bu Türkçe metin pozitif bir duygu içeriyor. Dini bir dilek olan \"Hayırlı cumalar\" genellikle iyi niyet dilekleri içerir ve pozitif bir mesaj taşır.                                      1\n",
       "Metin, olumlu bir ruh hali veya beklenti içeren \"Hayirlisi\" ifadesini taşıdığı için pozitif bir duygu içeriyor. Bu nedenle, metnin duygusu \"Pozitif\"tir.                                 1\n",
       "Bu metin nötr bir duyguyu içeriyor. Metin, sadece bir duyuru veya bilgi paylaşımı yapıyor ve belirgin bir olumlu ya da olumsuz duygu içermiyor.                                          1\n",
       "Bu metin negatif duygular içeriyor. Müşteri hizmetlerindeki çalışanla olan diyalogda kullanılan dil ve ifadeler olumsuz ve kızgın bir tonu yansıtıyor.                                   1\n",
       "Bu metin \"Nötr\" bir duygu içeriyor. Mesaj, belirli bir duygusal tonu açıkça ifade etmiyor ve daha çok bilgi eksikliğine ya da konuyla ilgili bir kafa karışıklığına işaret ediyor.       1\n",
       "Name: count, Length: 878, dtype: int64"
      ]
     },
     "execution_count": 7,
     "metadata": {},
     "output_type": "execute_result"
    }
   ],
   "source": [
    "output_df[\"preds\"].value_counts()"
   ]
  }
 ],
 "metadata": {
  "kernelspec": {
   "display_name": "venv",
   "language": "python",
   "name": "python3"
  },
  "language_info": {
   "codemirror_mode": {
    "name": "ipython",
    "version": 3
   },
   "file_extension": ".py",
   "mimetype": "text/x-python",
   "name": "python",
   "nbconvert_exporter": "python",
   "pygments_lexer": "ipython3",
   "version": "3.8.10"
  }
 },
 "nbformat": 4,
 "nbformat_minor": 2
}
