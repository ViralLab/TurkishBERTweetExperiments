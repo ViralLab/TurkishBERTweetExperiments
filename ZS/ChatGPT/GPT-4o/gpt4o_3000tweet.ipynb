{
 "cells": [
  {
   "cell_type": "code",
   "execution_count": 9,
   "metadata": {},
   "outputs": [],
   "source": [
    "import os\n",
    "import json\n",
    "\n",
    "from credentials import OPENAPI_KEY\n",
    "os.environ[\"OPENAI_API_KEY\"] = OPENAPI_KEY\n",
    "\n",
    "import openai\n",
    "from tqdm import tqdm\n",
    "import pandas as pd\n"
   ]
  },
  {
   "cell_type": "code",
   "execution_count": 10,
   "metadata": {},
   "outputs": [],
   "source": [
    "client = openai.OpenAI()"
   ]
  },
  {
   "cell_type": "code",
   "execution_count": 11,
   "metadata": {},
   "outputs": [],
   "source": [
    "ROOT_PATH = \"PATH\"\n",
    "ds_name = \"3000tweet\"\n",
    "ds_path = f\"{ROOT_PATH}/{ds_name}.jsonl\"\n",
    "with open(ds_path, \"r\") as f:\n",
    "    my_dataset = [json.loads(line) for line in f]"
   ]
  },
  {
   "cell_type": "code",
   "execution_count": 12,
   "metadata": {},
   "outputs": [
    {
     "data": {
      "text/plain": [
       "{'messages': [{'role': 'system',\n",
       "   'content': 'VRL-GPT-4o Türkçe metinlerin duygusunu verebilen bir chatbottur. (Pozitif, Nötr, Negatif)'},\n",
       "  {'role': 'user',\n",
       "   'content': 'Bu Türkçe metin hangi duyguyu içeriyor?: \"dun Turkcelle tepkilerimizden sonra bugün Turkcell twittera sponsor olmuþ. Ne tesadüf deðil mi ? :)\"? (Pozitif/Nötr/Negatif)'},\n",
       "  {'role': 'assistant', 'content': 'Pozitif'}]}"
      ]
     },
     "execution_count": 12,
     "metadata": {},
     "output_type": "execute_result"
    }
   ],
   "source": [
    "my_dataset[0]"
   ]
  },
  {
   "cell_type": "code",
   "execution_count": 32,
   "metadata": {},
   "outputs": [
    {
     "name": "stderr",
     "output_type": "stream",
     "text": [
      "100%|██████████| 3000/3000 [39:44<00:00,  1.26it/s]  \n"
     ]
    }
   ],
   "source": [
    "preds = []\n",
    "refs  = []\n",
    "\n",
    "for example in tqdm(my_dataset):\n",
    "    response = client.chat.completions.create(\n",
    "        model=\"gpt-4o\",  # or \"gpt-4-turbo\"\n",
    "        messages=example[\"messages\"][:2]\n",
    "    )\n",
    "    \n",
    "    model_output = response.choices[0].message.content\n",
    "    ground_truth = example[\"messages\"][-1][\"content\"]\n",
    "    preds.append(model_output)\n",
    "    refs.append(ground_truth)"
   ]
  },
  {
   "cell_type": "code",
   "execution_count": 33,
   "metadata": {},
   "outputs": [],
   "source": [
    "output_dir = \"/cta/users/anajafi/chatGPT/GPT4o/outputs\"\n",
    "output_df = pd.DataFrame({\"preds\": preds, \"refs\": refs})\n",
    "output_df.to_csv(f\"{output_dir}/gpt4o-{ds_name}.csv\", index=False)"
   ]
  },
  {
   "cell_type": "code",
   "execution_count": 35,
   "metadata": {},
   "outputs": [
    {
     "data": {
      "text/plain": [
       "preds\n",
       "Negatif                                                                                                                                                            755\n",
       "Pozitif.                                                                                                                                                           467\n",
       "Pozitif                                                                                                                                                            448\n",
       "Negatif.                                                                                                                                                           435\n",
       "Nötr                                                                                                                                                               264\n",
       "                                                                                                                                                                  ... \n",
       "Bu metin, olumsuz bir duyguyu (Negatif) yansıtıyor. Kişi, belirli bir ücretin beklenmedik bir şekilde artmasından şikayetçi.                                         1\n",
       "Metin olumsuz ifadeler ve hakaret içeriyor gibi görünüyor, bu nedenle bu metnin duygusu \"Negatif\"tir.                                                                1\n",
       "Bu Türkçe metin negatif bir duyguyu içeriyor.                                                                                                                        1\n",
       "\"#turkcellesavasimvar\" ifadesi, bir şikayet veya mücadeleyi belirtir nitelikte olduğu için genel olarak negatif bir duygu içeriyor.                                  1\n",
       "Bu metin \"negatif\" bir duygu içeriyor. İletinin başında aldatma ve çocuk yapma gibi olumsuz içerikler var ve bu da genel olarak negatif bir hissiyat yaratıyor.      1\n",
       "Name: count, Length: 268, dtype: int64"
      ]
     },
     "execution_count": 35,
     "metadata": {},
     "output_type": "execute_result"
    }
   ],
   "source": [
    "output_df[\"preds\"].value_counts()"
   ]
  },
  {
   "cell_type": "code",
   "execution_count": null,
   "metadata": {},
   "outputs": [],
   "source": []
  }
 ],
 "metadata": {
  "kernelspec": {
   "display_name": "venv",
   "language": "python",
   "name": "python3"
  },
  "language_info": {
   "codemirror_mode": {
    "name": "ipython",
    "version": 3
   },
   "file_extension": ".py",
   "mimetype": "text/x-python",
   "name": "python",
   "nbconvert_exporter": "python",
   "pygments_lexer": "ipython3",
   "version": "3.8.10"
  }
 },
 "nbformat": 4,
 "nbformat_minor": 2
}
