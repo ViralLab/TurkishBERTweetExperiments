{
 "cells": [
  {
   "cell_type": "code",
   "execution_count": 1,
   "metadata": {},
   "outputs": [],
   "source": [
    "import os\n",
    "import json\n",
    "\n",
    "from credentials import OPENAPI_KEY\n",
    "os.environ[\"OPENAI_API_KEY\"] = OPENAPI_KEY\n",
    "\n",
    "import openai\n",
    "from tqdm import tqdm\n",
    "import pandas as pd"
   ]
  },
  {
   "cell_type": "code",
   "execution_count": 2,
   "metadata": {},
   "outputs": [],
   "source": [
    "client = openai.OpenAI()"
   ]
  },
  {
   "cell_type": "code",
   "execution_count": 3,
   "metadata": {},
   "outputs": [],
   "source": [
    "ROOT_PATH = \"PATH\"\n",
    "ds_name = \"OurDataset\"\n",
    "ds_path = f\"{ROOT_PATH}/{ds_name}.jsonl\"\n",
    "with open(ds_path, \"r\") as f:\n",
    "    my_dataset = [json.loads(line) for line in f]"
   ]
  },
  {
   "cell_type": "code",
   "execution_count": 4,
   "metadata": {},
   "outputs": [
    {
     "data": {
      "text/plain": [
       "{'messages': [{'role': 'system',\n",
       "   'content': 'VRL-GPT-4o Türkçe metinlerin duygusunu verebilen bir chatbottur. (Pozitif, Nötr, Negatif)'},\n",
       "  {'role': 'user',\n",
       "   'content': 'Bu Türkçe metin hangi duyguyu içeriyor?: \"@carvalhogh_ FELIZ 2021 kdkakdsk\"? (Pozitif/Nötr/Negatif)'},\n",
       "  {'role': 'assistant', 'content': 'Nötr'}]}"
      ]
     },
     "execution_count": 4,
     "metadata": {},
     "output_type": "execute_result"
    }
   ],
   "source": [
    "my_dataset[0]"
   ]
  },
  {
   "cell_type": "code",
   "execution_count": 5,
   "metadata": {},
   "outputs": [
    {
     "name": "stderr",
     "output_type": "stream",
     "text": [
      "100%|██████████| 23689/23689 [4:56:05<00:00,  1.33it/s]   \n"
     ]
    }
   ],
   "source": [
    "preds = []\n",
    "refs  = []\n",
    "\n",
    "for example in tqdm(my_dataset):\n",
    "    response = client.chat.completions.create(\n",
    "        model=\"gpt-4o\",  # or \"gpt-4-turbo\"\n",
    "        messages=example[\"messages\"][:2]\n",
    "    )\n",
    "    \n",
    "    model_output = response.choices[0].message.content\n",
    "    ground_truth = example[\"messages\"][-1][\"content\"]\n",
    "    preds.append(model_output)\n",
    "    refs.append(ground_truth)"
   ]
  },
  {
   "cell_type": "code",
   "execution_count": 6,
   "metadata": {},
   "outputs": [],
   "source": [
    "output_dir = \"/cta/users/anajafi/chatGPT/GPT4o/outputs\"\n",
    "output_df = pd.DataFrame({\"preds\": preds, \"refs\": refs})\n",
    "output_df.to_csv(f\"{output_dir}/gpt4o-{ds_name}.csv\", index=False)"
   ]
  },
  {
   "cell_type": "code",
   "execution_count": 7,
   "metadata": {},
   "outputs": [
    {
     "data": {
      "text/plain": [
       "preds\n",
       "Negatif                                                                                                                                                                                                                           4928\n",
       "Nötr                                                                                                                                                                                                                              3517\n",
       "Negatif.                                                                                                                                                                                                                          3159\n",
       "Pozitif.                                                                                                                                                                                                                          2849\n",
       "Pozitif                                                                                                                                                                                                                           2099\n",
       "                                                                                                                                                                                                                                  ... \n",
       "Bu Türkçe metin nötr bir duygu içeriyor. Kocaelispor ve Anadolu takımları hakkında genel bir soru sorulmuş ve bilgi paylaşılmış. Herhangi bir belirgin pozitif ya da negatif duygu ifadesi yok.                                      1\n",
       "Bu metin herhangi bir duygu barındırmıyor gibi görünüyor. Çoğunlukla iletişimsiz ve anlamsız kelimeler içeriyor. Bu nedenle metin nötr olarak değerlendirilebilir.                                                                   1\n",
       "Bu metin tanınabilir kelimeler içermediği için duygu tespit etmek zor. Ancak, genel bir izlenim olarak, metinde belirli bir duygu çağrıştıran bir ifade bulunmuyor. Dolayısıyla, \"nötr\" olarak değerlendirilebilir.                  1\n",
       "Bu Türkçe metin, \"İnşallah\" kelimesindeki olumlu beklenti ifadesi nedeniyle pozitif bir duyguyu içeriyor.                                                                                                                            1\n",
       "Bu metin nötr bir duyguyu içermektedir. Metin, belirli bir konuyla ilgili olarak politik bir figürü, Devlet Bahçeli'yi etiketleyen bir tweetin bir bölümü gibi görünüyor ve herhangi bir duygusal içerik veya ifade taşımıyor.       1\n",
       "Name: count, Length: 2595, dtype: int64"
      ]
     },
     "execution_count": 7,
     "metadata": {},
     "output_type": "execute_result"
    }
   ],
   "source": [
    "output_df[\"preds\"].value_counts()"
   ]
  }
 ],
 "metadata": {
  "kernelspec": {
   "display_name": "venv",
   "language": "python",
   "name": "python3"
  },
  "language_info": {
   "codemirror_mode": {
    "name": "ipython",
    "version": 3
   },
   "file_extension": ".py",
   "mimetype": "text/x-python",
   "name": "python",
   "nbconvert_exporter": "python",
   "pygments_lexer": "ipython3",
   "version": "3.8.10"
  }
 },
 "nbformat": 4,
 "nbformat_minor": 2
}
