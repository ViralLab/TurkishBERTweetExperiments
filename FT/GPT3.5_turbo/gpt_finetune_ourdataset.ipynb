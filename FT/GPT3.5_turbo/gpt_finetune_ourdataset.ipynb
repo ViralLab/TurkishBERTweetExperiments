{
 "cells": [
  {
   "cell_type": "code",
   "execution_count": 1,
   "metadata": {},
   "outputs": [],
   "source": [
    "import openai\n",
    "import json\n",
    "from sklearn.metrics import classification_report\n",
    "import pandas as pd\n",
    "from tqdm import tqdm\n",
    "from credentials import OPENAPI_KEY\n",
    "openai.api_key = OPENAPI_KEY"
   ]
  },
  {
   "cell_type": "code",
   "execution_count": null,
   "metadata": {},
   "outputs": [],
   "source": [
    "train_ds_path = \"DS_PATH/train.jsonl\"\n",
    "openai.File.create(file=open(train_ds_path, \"rb\"), purpose=\"fine-tune\")"
   ]
  },
  {
   "cell_type": "code",
   "execution_count": null,
   "metadata": {},
   "outputs": [],
   "source": [
    "openai.FineTuningJob.create(training_file=\"FILE_ID\", model=\"gpt-3.5-turbo\")"
   ]
  },
  {
   "cell_type": "code",
   "execution_count": null,
   "metadata": {},
   "outputs": [],
   "source": [
    "openai.FineTuningJob.retrieve(\"FINETUNE_ID\")"
   ]
  },
  {
   "cell_type": "code",
   "execution_count": 113,
   "metadata": {},
   "outputs": [],
   "source": [
    "test_ds_path = \"DS_PATH/test.jsonl\"\n",
    "with open(test_ds_path, \"r\") as f:\n",
    "    test_dataset = [json.loads(line) for line in f]"
   ]
  },
  {
   "cell_type": "code",
   "execution_count": 119,
   "metadata": {},
   "outputs": [
    {
     "data": {
      "text/plain": [
       "[{'role': 'system',\n",
       "  'content': 'vrl-gpt3.5-turbo is a chatbot that can give the sentiment of Turkish texts.'},\n",
       " {'role': 'user',\n",
       "  'content': 'What is the sentiment of this Turkish text \"@carvalhogh_ FELIZ 2021 kdkakdsk\"?'},\n",
       " {'role': 'assistant', 'content': 'neutral'}]"
      ]
     },
     "execution_count": 119,
     "metadata": {},
     "output_type": "execute_result"
    }
   ],
   "source": [
    "test_dataset[0][\"messages\"]"
   ]
  },
  {
   "cell_type": "code",
   "execution_count": 121,
   "metadata": {},
   "outputs": [
    {
     "name": "stderr",
     "output_type": "stream",
     "text": [
      "100%|██████████| 23689/23689 [2:04:56<00:00,  3.16it/s]  \n"
     ]
    }
   ],
   "source": [
    "preds = []\n",
    "refs = []\n",
    "for example in tqdm(test_dataset):\n",
    "    completion = openai.ChatCompletion.create(\n",
    "        model=\"MODEL_ID\",\n",
    "        messages=example[\"messages\"][:2]\n",
    "        )\n",
    "    model_output = completion.choices[0].message\n",
    "    ground_truth = example[\"messages\"][-1][\"content\"]\n",
    "    preds.append(model_output[\"content\"])\n",
    "    refs.append(ground_truth)"
   ]
  },
  {
   "cell_type": "code",
   "execution_count": 122,
   "metadata": {},
   "outputs": [],
   "source": [
    "output_df = pd.DataFrame({\"preds\": preds, \"refs\": refs})\n",
    "output_df.to_csv(\"OUTPUT_PATH/output.csv\", index=False)"
   ]
  },
  {
   "cell_type": "code",
   "execution_count": 133,
   "metadata": {},
   "outputs": [],
   "source": [
    "output_labels = [\"negative\", \"neutral\", \"positive\"]\n",
    "for index in range(len(preds)):\n",
    "    if preds[index] not in output_labels:\n",
    "        preds[index] = \"neutral\" "
   ]
  },
  {
   "cell_type": "code",
   "execution_count": 140,
   "metadata": {},
   "outputs": [
    {
     "name": "stdout",
     "output_type": "stream",
     "text": [
      "              precision    recall  f1-score   support\n",
      "\n",
      "    negative     0.5706    0.6154    0.5922      8074\n",
      "     neutral     0.5552    0.5421    0.5485     10146\n",
      "    positive     0.5323    0.4939    0.5124      5469\n",
      "\n",
      "    accuracy                         0.5560     23689\n",
      "   macro avg     0.5527    0.5505    0.5510     23689\n",
      "weighted avg     0.5552    0.5560    0.5551     23689\n",
      "\n"
     ]
    }
   ],
   "source": [
    "print(classification_report(refs, preds, digits=4))"
   ]
  },
  {
   "cell_type": "code",
   "execution_count": 136,
   "metadata": {},
   "outputs": [
    {
     "data": {
      "text/html": [
       "<div>\n",
       "<style scoped>\n",
       "    .dataframe tbody tr th:only-of-type {\n",
       "        vertical-align: middle;\n",
       "    }\n",
       "\n",
       "    .dataframe tbody tr th {\n",
       "        vertical-align: top;\n",
       "    }\n",
       "\n",
       "    .dataframe thead th {\n",
       "        text-align: right;\n",
       "    }\n",
       "</style>\n",
       "<table border=\"1\" class=\"dataframe\">\n",
       "  <thead>\n",
       "    <tr style=\"text-align: right;\">\n",
       "      <th></th>\n",
       "      <th>preds</th>\n",
       "      <th>refs</th>\n",
       "    </tr>\n",
       "  </thead>\n",
       "  <tbody>\n",
       "    <tr>\n",
       "      <th>0</th>\n",
       "      <td>positive</td>\n",
       "      <td>neutral</td>\n",
       "    </tr>\n",
       "    <tr>\n",
       "      <th>1</th>\n",
       "      <td>neutral</td>\n",
       "      <td>neutral</td>\n",
       "    </tr>\n",
       "    <tr>\n",
       "      <th>2</th>\n",
       "      <td>neutral</td>\n",
       "      <td>neutral</td>\n",
       "    </tr>\n",
       "    <tr>\n",
       "      <th>3</th>\n",
       "      <td>neutral</td>\n",
       "      <td>neutral</td>\n",
       "    </tr>\n",
       "    <tr>\n",
       "      <th>4</th>\n",
       "      <td>neutral</td>\n",
       "      <td>negative</td>\n",
       "    </tr>\n",
       "  </tbody>\n",
       "</table>\n",
       "</div>"
      ],
      "text/plain": [
       "      preds      refs\n",
       "0  positive   neutral\n",
       "1   neutral   neutral\n",
       "2   neutral   neutral\n",
       "3   neutral   neutral\n",
       "4   neutral  negative"
      ]
     },
     "execution_count": 136,
     "metadata": {},
     "output_type": "execute_result"
    }
   ],
   "source": [
    "temp_df  = pd.read_csv(\"OUTPUT_PATH/output.csv\")\n",
    "\n",
    "temp_df.head()"
   ]
  },
  {
   "cell_type": "code",
   "execution_count": 137,
   "metadata": {},
   "outputs": [
    {
     "data": {
      "text/plain": [
       "preds\n",
       "neutral               9890\n",
       "negative              8708\n",
       "positive              5074\n",
       "netural                  1\n",
       "unknown                  1\n",
       "pos                      1\n",
       "neagtive                 1\n",
       "joyful                   1\n",
       "Positive                 1\n",
       "Neutral                  1\n",
       "sadness                  1\n",
       "neutrally_positive       1\n",
       " negative                1\n",
       "mixed                    1\n",
       "surprise                 1\n",
       "😂 positive               1\n",
       "other                    1\n",
       "joy                      1\n",
       "nefret                   1\n",
       "neut                     1\n",
       "Name: count, dtype: int64"
      ]
     },
     "execution_count": 137,
     "metadata": {},
     "output_type": "execute_result"
    }
   ],
   "source": [
    "temp_df[\"preds\"].value_counts()"
   ]
  },
  {
   "cell_type": "code",
   "execution_count": null,
   "metadata": {},
   "outputs": [],
   "source": []
  }
 ],
 "metadata": {
  "kernelspec": {
   "display_name": "venv",
   "language": "python",
   "name": "python3"
  },
  "language_info": {
   "codemirror_mode": {
    "name": "ipython",
    "version": 3
   },
   "file_extension": ".py",
   "mimetype": "text/x-python",
   "name": "python",
   "nbconvert_exporter": "python",
   "pygments_lexer": "ipython3",
   "version": "3.8.10"
  },
  "orig_nbformat": 4
 },
 "nbformat": 4,
 "nbformat_minor": 2
}
