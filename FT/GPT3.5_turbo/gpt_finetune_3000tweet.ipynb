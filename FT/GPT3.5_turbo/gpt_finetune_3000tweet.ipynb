{
 "cells": [
  {
   "cell_type": "code",
   "execution_count": 1,
   "metadata": {},
   "outputs": [],
   "source": [
    "import openai\n",
    "import json\n",
    "from sklearn.metrics import classification_report\n",
    "import pandas as pd\n",
    "from tqdm import tqdm\n",
    "from credentials import OPENAPI_KEY\n",
    "openai.api_key = OPENAPI_KEY"
   ]
  },
  {
   "cell_type": "code",
   "execution_count": null,
   "metadata": {},
   "outputs": [],
   "source": [
    "train_ds_path = \"DS_PATH/train.jsonl\"\n",
    "openai.File.create(file=open(train_ds_path, \"rb\"), purpose=\"fine-tune\")"
   ]
  },
  {
   "cell_type": "code",
   "execution_count": null,
   "metadata": {},
   "outputs": [],
   "source": [
    "openai.FineTuningJob.create(training_file=\"FILE_ID\", model=\"gpt-3.5-turbo\")"
   ]
  },
  {
   "cell_type": "code",
   "execution_count": null,
   "metadata": {},
   "outputs": [],
   "source": [
    "openai.FineTuningJob.retrieve(\"FINETUNE_ID\")"
   ]
  },
  {
   "cell_type": "code",
   "execution_count": 40,
   "metadata": {},
   "outputs": [],
   "source": [
    "test_ds_path = \"DS_PATH/test.jsonl\"\n",
    "with open(test_ds_path, \"r\") as f:\n",
    "    test_dataset = [json.loads(line) for line in f]"
   ]
  },
  {
   "cell_type": "code",
   "execution_count": 41,
   "metadata": {},
   "outputs": [
    {
     "data": {
      "text/plain": [
       "[{'role': 'system',\n",
       "  'content': 'vrl-gpt3.5-turbo is a chatbot that can give the sentiment of Turkish texts.'},\n",
       " {'role': 'user',\n",
       "  'content': 'What is the sentiment of this Turkish text \"Ulan Wifi\\'ye bağlıyım ben. Ona bağlıyken Turkcell internet paketin bitti diye nasıl mesaj atabilir bana ya? Onu da mı ödeyelim\"?'},\n",
       " {'role': 'assistant', 'content': 'negative'}]"
      ]
     },
     "execution_count": 41,
     "metadata": {},
     "output_type": "execute_result"
    }
   ],
   "source": [
    "test_dataset[0][\"messages\"]"
   ]
  },
  {
   "cell_type": "code",
   "execution_count": null,
   "metadata": {},
   "outputs": [],
   "source": [
    "preds = []\n",
    "refs = []\n",
    "for example in tqdm(test_dataset):\n",
    "    completion = openai.ChatCompletion.create(\n",
    "        model=\"MODEL_ID\",\n",
    "        messages=example[\"messages\"][:2]\n",
    "        )\n",
    "    model_output = completion.choices[0].message\n",
    "    ground_truth = example[\"messages\"][-1][\"content\"]\n",
    "    preds.append(model_output[\"content\"])\n",
    "    refs.append(ground_truth)"
   ]
  },
  {
   "cell_type": "code",
   "execution_count": 122,
   "metadata": {},
   "outputs": [],
   "source": [
    "output_df = pd.DataFrame({\"preds\": preds, \"refs\": refs})\n",
    "output_df.to_csv(\"OUTPUT_PATH/output.csv\", index=False)"
   ]
  },
  {
   "cell_type": "code",
   "execution_count": 2,
   "metadata": {},
   "outputs": [
    {
     "data": {
      "text/html": [
       "<div>\n",
       "<style scoped>\n",
       "    .dataframe tbody tr th:only-of-type {\n",
       "        vertical-align: middle;\n",
       "    }\n",
       "\n",
       "    .dataframe tbody tr th {\n",
       "        vertical-align: top;\n",
       "    }\n",
       "\n",
       "    .dataframe thead th {\n",
       "        text-align: right;\n",
       "    }\n",
       "</style>\n",
       "<table border=\"1\" class=\"dataframe\">\n",
       "  <thead>\n",
       "    <tr style=\"text-align: right;\">\n",
       "      <th></th>\n",
       "      <th>preds</th>\n",
       "      <th>refs</th>\n",
       "    </tr>\n",
       "  </thead>\n",
       "  <tbody>\n",
       "    <tr>\n",
       "      <th>0</th>\n",
       "      <td>negative</td>\n",
       "      <td>positive</td>\n",
       "    </tr>\n",
       "    <tr>\n",
       "      <th>1</th>\n",
       "      <td>neutral</td>\n",
       "      <td>positive</td>\n",
       "    </tr>\n",
       "    <tr>\n",
       "      <th>2</th>\n",
       "      <td>negative</td>\n",
       "      <td>positive</td>\n",
       "    </tr>\n",
       "    <tr>\n",
       "      <th>3</th>\n",
       "      <td>neutral</td>\n",
       "      <td>positive</td>\n",
       "    </tr>\n",
       "    <tr>\n",
       "      <th>4</th>\n",
       "      <td>neutral</td>\n",
       "      <td>positive</td>\n",
       "    </tr>\n",
       "  </tbody>\n",
       "</table>\n",
       "</div>"
      ],
      "text/plain": [
       "      preds      refs\n",
       "0  negative  positive\n",
       "1   neutral  positive\n",
       "2  negative  positive\n",
       "3   neutral  positive\n",
       "4   neutral  positive"
      ]
     },
     "execution_count": 2,
     "metadata": {},
     "output_type": "execute_result"
    }
   ],
   "source": [
    "temp_df  = pd.read_csv(\"OUTPUT_PATH/output.csv\")\n",
    "temp_df.head()"
   ]
  },
  {
   "cell_type": "code",
   "execution_count": 3,
   "metadata": {},
   "outputs": [
    {
     "data": {
      "text/plain": [
       "preds\n",
       "negative    1196\n",
       "neutral     1001\n",
       "positive     801\n",
       "requests       1\n",
       "neural         1\n",
       "Name: count, dtype: int64"
      ]
     },
     "execution_count": 3,
     "metadata": {},
     "output_type": "execute_result"
    }
   ],
   "source": [
    "temp_df[\"preds\"].value_counts()"
   ]
  },
  {
   "cell_type": "code",
   "execution_count": 4,
   "metadata": {},
   "outputs": [],
   "source": [
    "refs, preds = temp_df[\"refs\"], temp_df[\"preds\"]\n",
    "output_labels = [\"negative\", \"neutral\", \"positive\"]\n",
    "for index in range(len(preds)):\n",
    "    if preds[index] not in output_labels:\n",
    "        preds[index] = \"neutral\" "
   ]
  },
  {
   "cell_type": "code",
   "execution_count": 5,
   "metadata": {},
   "outputs": [
    {
     "name": "stdout",
     "output_type": "stream",
     "text": [
      "              precision    recall  f1-score   support\n",
      "\n",
      "    negative     0.7642    0.7102    0.7362      1287\n",
      "     neutral     0.5264    0.5517    0.5388       957\n",
      "    positive     0.5743    0.6085    0.5909       756\n",
      "\n",
      "    accuracy                         0.6340      3000\n",
      "   macro avg     0.6216    0.6235    0.6220      3000\n",
      "weighted avg     0.6405    0.6340    0.6366      3000\n",
      "\n"
     ]
    }
   ],
   "source": [
    "print(classification_report(refs, preds, digits=4))"
   ]
  },
  {
   "cell_type": "code",
   "execution_count": null,
   "metadata": {},
   "outputs": [],
   "source": []
  }
 ],
 "metadata": {
  "kernelspec": {
   "display_name": "venv",
   "language": "python",
   "name": "python3"
  },
  "language_info": {
   "codemirror_mode": {
    "name": "ipython",
    "version": 3
   },
   "file_extension": ".py",
   "mimetype": "text/x-python",
   "name": "python",
   "nbconvert_exporter": "python",
   "pygments_lexer": "ipython3",
   "version": "3.8.10"
  },
  "orig_nbformat": 4
 },
 "nbformat": 4,
 "nbformat_minor": 2
}
