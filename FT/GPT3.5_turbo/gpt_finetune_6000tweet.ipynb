{
 "cells": [
  {
   "cell_type": "code",
   "execution_count": 1,
   "metadata": {},
   "outputs": [],
   "source": [
    "import openai\n",
    "import json\n",
    "from sklearn.metrics import classification_report\n",
    "import pandas as pd\n",
    "from tqdm import tqdm\n",
    "from credentials import OPENAPI_KEY\n",
    "openai.api_key = OPENAPI_KEY"
   ]
  },
  {
   "cell_type": "code",
   "execution_count": null,
   "metadata": {},
   "outputs": [],
   "source": [
    "train_ds_path = \"DS_PATH/train.jsonl\"\n",
    "openai.File.create(file=open(train_ds_path, \"rb\"), purpose=\"fine-tune\")"
   ]
  },
  {
   "cell_type": "code",
   "execution_count": null,
   "metadata": {},
   "outputs": [],
   "source": [
    "openai.FineTuningJob.create(training_file=\"FILE_ID\", model=\"gpt-3.5-turbo\")"
   ]
  },
  {
   "cell_type": "code",
   "execution_count": null,
   "metadata": {},
   "outputs": [],
   "source": [
    "openai.FineTuningJob.retrieve(\"FINETUNE_ID\")"
   ]
  },
  {
   "cell_type": "code",
   "execution_count": 40,
   "metadata": {},
   "outputs": [],
   "source": [
    "test_ds_path = \"DS_PATH/test.jsonl\"\n",
    "with open(test_ds_path, \"r\") as f:\n",
    "    test_dataset = [json.loads(line) for line in f]"
   ]
  },
  {
   "cell_type": "code",
   "execution_count": 41,
   "metadata": {},
   "outputs": [
    {
     "data": {
      "text/plain": [
       "[{'role': 'system',\n",
       "  'content': 'vrl-gpt3.5-turbo is a chatbot that can give the sentiment of Turkish texts.'},\n",
       " {'role': 'user',\n",
       "  'content': 'What is the sentiment of this Turkish text \"Ulan Wifi\\'ye bağlıyım ben. Ona bağlıyken Turkcell internet paketin bitti diye nasıl mesaj atabilir bana ya? Onu da mı ödeyelim\"?'},\n",
       " {'role': 'assistant', 'content': 'negative'}]"
      ]
     },
     "execution_count": 41,
     "metadata": {},
     "output_type": "execute_result"
    }
   ],
   "source": [
    "test_dataset[0][\"messages\"]"
   ]
  },
  {
   "cell_type": "code",
   "execution_count": null,
   "metadata": {},
   "outputs": [],
   "source": [
    "preds = []\n",
    "refs = []\n",
    "for example in tqdm(test_dataset):\n",
    "    completion = openai.ChatCompletion.create(\n",
    "        model=\"MODEL_ID\",\n",
    "        messages=example[\"messages\"][:2]\n",
    "        )\n",
    "    model_output = completion.choices[0].message\n",
    "    ground_truth = example[\"messages\"][-1][\"content\"]\n",
    "    preds.append(model_output[\"content\"])\n",
    "    refs.append(ground_truth)"
   ]
  },
  {
   "cell_type": "code",
   "execution_count": 122,
   "metadata": {},
   "outputs": [],
   "source": [
    "output_df = pd.DataFrame({\"preds\": preds, \"refs\": refs})\n",
    "output_df.to_csv(\"OUTPUT_PATH/output.csv\", index=False)"
   ]
  },
  {
   "cell_type": "code",
   "execution_count": 29,
   "metadata": {},
   "outputs": [
    {
     "data": {
      "text/html": [
       "<div>\n",
       "<style scoped>\n",
       "    .dataframe tbody tr th:only-of-type {\n",
       "        vertical-align: middle;\n",
       "    }\n",
       "\n",
       "    .dataframe tbody tr th {\n",
       "        vertical-align: top;\n",
       "    }\n",
       "\n",
       "    .dataframe thead th {\n",
       "        text-align: right;\n",
       "    }\n",
       "</style>\n",
       "<table border=\"1\" class=\"dataframe\">\n",
       "  <thead>\n",
       "    <tr style=\"text-align: right;\">\n",
       "      <th></th>\n",
       "      <th>preds</th>\n",
       "      <th>refs</th>\n",
       "    </tr>\n",
       "  </thead>\n",
       "  <tbody>\n",
       "    <tr>\n",
       "      <th>0</th>\n",
       "      <td>positive</td>\n",
       "      <td>negative</td>\n",
       "    </tr>\n",
       "    <tr>\n",
       "      <th>1</th>\n",
       "      <td>neutral</td>\n",
       "      <td>negative</td>\n",
       "    </tr>\n",
       "    <tr>\n",
       "      <th>2</th>\n",
       "      <td>positive</td>\n",
       "      <td>negative</td>\n",
       "    </tr>\n",
       "    <tr>\n",
       "      <th>3</th>\n",
       "      <td>neutral</td>\n",
       "      <td>negative</td>\n",
       "    </tr>\n",
       "    <tr>\n",
       "      <th>4</th>\n",
       "      <td>neutral</td>\n",
       "      <td>negative</td>\n",
       "    </tr>\n",
       "  </tbody>\n",
       "</table>\n",
       "</div>"
      ],
      "text/plain": [
       "      preds      refs\n",
       "0  positive  negative\n",
       "1   neutral  negative\n",
       "2  positive  negative\n",
       "3   neutral  negative\n",
       "4   neutral  negative"
      ]
     },
     "execution_count": 29,
     "metadata": {},
     "output_type": "execute_result"
    }
   ],
   "source": [
    "temp_df  = pd.read_csv(\"OUTPUT_PATH/output.csv\")\n",
    "\n",
    "temp_df.head()"
   ]
  },
  {
   "cell_type": "code",
   "execution_count": 30,
   "metadata": {},
   "outputs": [
    {
     "data": {
      "text/plain": [
       "preds\n",
       "neutral                2305\n",
       "negative               1860\n",
       "positive               1828\n",
       "mixed                     1\n",
       "undefined                 1\n",
       "neu                       1\n",
       "neutral to positive       1\n",
       "Negative                  1\n",
       "fear                      1\n",
       "-neutral                  1\n",
       "other                     1\n",
       "Name: count, dtype: int64"
      ]
     },
     "execution_count": 30,
     "metadata": {},
     "output_type": "execute_result"
    }
   ],
   "source": [
    "temp_df[\"preds\"].value_counts()"
   ]
  },
  {
   "cell_type": "code",
   "execution_count": 31,
   "metadata": {},
   "outputs": [],
   "source": [
    "refs, preds = temp_df[\"refs\"], temp_df[\"preds\"]\n",
    "output_labels = [\"negative\", \"neutral\", \"positive\"]\n",
    "for index in range(len(preds)):\n",
    "    if preds[index] not in output_labels:\n",
    "        preds[index] = \"neutral\" "
   ]
  },
  {
   "cell_type": "code",
   "execution_count": 32,
   "metadata": {},
   "outputs": [
    {
     "name": "stdout",
     "output_type": "stream",
     "text": [
      "              precision    recall  f1-score   support\n",
      "\n",
      "    negative     0.8027    0.4975    0.6143      3001\n",
      "     neutral     0.3260    0.5207    0.4010      1448\n",
      "    positive     0.5197    0.6121    0.5621      1552\n",
      "\n",
      "    accuracy                         0.5327      6001\n",
      "   macro avg     0.5495    0.5434    0.5258      6001\n",
      "weighted avg     0.6145    0.5327    0.5493      6001\n",
      "\n"
     ]
    }
   ],
   "source": [
    "print(classification_report(refs, preds, digits=4))"
   ]
  },
  {
   "cell_type": "code",
   "execution_count": null,
   "metadata": {},
   "outputs": [],
   "source": []
  }
 ],
 "metadata": {
  "kernelspec": {
   "display_name": "venv",
   "language": "python",
   "name": "python3"
  },
  "language_info": {
   "codemirror_mode": {
    "name": "ipython",
    "version": 3
   },
   "file_extension": ".py",
   "mimetype": "text/x-python",
   "name": "python",
   "nbconvert_exporter": "python",
   "pygments_lexer": "ipython3",
   "version": "3.8.10"
  },
  "orig_nbformat": 4
 },
 "nbformat": 4,
 "nbformat_minor": 2
}
